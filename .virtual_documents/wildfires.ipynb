import folium
from folium import plugins
import requests

from folium.plugins.timeline import Timeline, TimelineSlider
from folium.utilities import JsCode
from folium.features import GeoJsonPopup

# data_url = 'https://incidents.fire.ca.gov/umbraco/api/IncidentApi/GeoJsonList?year=2013'

# geojson_data = requests.get(data_url).json()
# print(len(geojson_data['features']))

# m = folium.Map((36.7783, -119.4179), tiles="cartodbpositron", zoom_start=6)

# folium.GeoJson(geojson_data, name="test").add_to(m)

# folium.LayerControl().add_to(m)

# timeline = Timeline(
#     geojson_data,
#     # get_interval=JsCode(
#     #     '''
#     #     function (point) {
#     #        console.log(point)
#     #        // return {
#     #        //     start: point.properties.StartedDateOnly,
#     #        //     end: point.properties.ExtinguishedDateOnly || "2025-02-26",
#     #       //  };
#     #     };
#     # '''
#     # ),
# ).add_to(m)

# GeoJsonPopup(fields=['Started'], labels=True).add_to(timeline)

# TimelineSlider(
#     start = "2013",
#     end = "2025",
#     date_options = "YYYY-MM-DD",
#     auto_play=False,
#     show_ticks=True,
#     enable_keyboard_controls=True,
#     playback_duration=30000,
# ).add_timelines(timeline).add_to(m)




import requests
import json
import math
import xyzservices.providers as xyz
from pyproj import Transformer, transform

from bokeh.models import GeoJSONDataSource, CustomJS, Slider
from bokeh.plotting import figure, show, column
from bokeh.io import output_notebook

output_notebook()
TOOLTIPS = [('County', '@County')]
transformer = Transformer.from_crs("EPSG:4326", "EPSG:3857", always_xy=True)

data_url = 'https://incidents.fire.ca.gov/umbraco/api/IncidentApi/GeoJsonList?year=2013'
geojson_data = requests.get(data_url).json()

for i in range(len(geojson_data['features'])):
    geojson_data['features'][i]['properties']['Color'] = 'blue'

for i in range(len(geojson_data['features'])):
    coords = geojson_data['features'][i]['geometry']['coordinates']
    mercator_coords = transformer.transform(coords[0], coords[1])
    if math.isinf(mercator_coords[0]) or math.isinf(mercator_coords[1]):
        geojson_data['features'][i]['geometry']['coordinates'] = [0,0]
    else:
        geojson_data['features'][i]['geometry']['coordinates'] = list(transformer.transform(coords[0], coords[1]))

geo_source = GeoJSONDataSource(geojson=json.dumps(geojson_data))

p = figure(x_range=(-14500000, -12500000), y_range=(4000000, 5000000),
           x_axis_type="mercator", y_axis_type="mercator", tooltips=TOOLTIPS)

p.add_tile(xyz.OpenStreetMap.Mapnik, retina=True)
p.scatter(x='x', y='y', size=15, color='Color', alpha=0.4, source=geo_source)

date_slider = Slider(value=2013,
                     start=2013,
                     end=2025
                    )

# callback = CustomJS(args=dict(source = geo_source, url=data_url), code="""
#     console.log('date_slider: value=' + url + this.value);
#     console.log('source', source);
#     console.log('cb_obj', cb_obj);
#     console.log('cb_data', cb_data);
#     console.log('cb_context', cb_context);
#     return url + this.value;
# """)

callback = CustomJS(
    args=dict(source=geo_source, url=data_url),
    code="""
    async function updateData() {
        const response = await fetch(url);
        const data = await response.json();
        console.log(data)

        // source.geojson = new_data;
        // source.change.emit(); // Trigger re-render
    }

    updateData();
    """,
)

date_slider.js_on_change("value", callback)

layout = column(date_slider, p)
show(layout)
