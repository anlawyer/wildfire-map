import folium
from folium import plugins
import requests

from folium.plugins.timeline import Timeline, TimelineSlider
from folium.utilities import JsCode
from folium.features import GeoJsonPopup

data_url = 'https://incidents.fire.ca.gov/umbraco/api/IncidentApi/GeoJsonList?year=2020'

geojson_data = requests.get(data_url).json()
print(len(geojson_data['features']))

m = folium.Map((36.7783, -119.4179), tiles="cartodbpositron", zoom_start=6)

folium.GeoJson(geojson_data, name="test").add_to(m)

# folium.LayerControl().add_to(m)

timeline = Timeline(
    geojson_data,
    # get_interval=JsCode(
    #     '''
    #     function (point) {
    #        console.log(point)
    #        // return {
    #        //     start: point.properties.StartedDateOnly,
    #        //     end: point.properties.ExtinguishedDateOnly || "2025-02-26",
    #       //  };
    #     };
    # '''
    # ),
).add_to(m)

# GeoJsonPopup(fields=['Started'], labels=True).add_to(timeline)

TimelineSlider(
    start = "2013",
    end = "2025",
    date_options = "YYYY-MM-DD",
    auto_play=False,
    show_ticks=True,
    enable_keyboard_controls=True,
    playback_duration=30000,
).add_timelines(timeline).add_to(m)




import requests
import json

from bokeh.models import GeoJSONDataSource
from bokeh.plotting import figure, show
from bokeh.io import output_notebook

output_notebook()

data_url = 'https://incidents.fire.ca.gov/umbraco/api/IncidentApi/GeoJsonList?year=2020'
geojson_data = requests.get(data_url).json()

for i in range(len(geojson_data['features'])):
    geojson_data['features'][i]['properties']['Color'] = ['blue', 'red'][i%2]

geo_source = GeoJSONDataSource(geojson=json.dumps(geojson_data))

# TOOLTIPS = [('Organisation', '@OrganisationName')]

p = figure(background_fill_color="lightgrey", tooltips=TOOLTIPS)


# show(p)

# range bounds supplied in web mercator coordinates
p = figure(x_range=(-14500000, -12500000), y_range=(4000000, 5000000),
           x_axis_type="mercator", y_axis_type="mercator")

p.add_tile("CartoDB Positron", retina=True)
p.scatter(x='x', y='y', size=15, color='Color', alpha=0.7, source=geo_source)

show(p)
