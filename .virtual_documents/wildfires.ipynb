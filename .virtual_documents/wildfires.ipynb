import os

import pandas as pd

from mapboxgl.utils import create_color_stops, geojson_to_dict_list
from mapboxgl.viz import CircleViz

data_url = 'https://incidents.fire.ca.gov/umbraco/api/IncidentApi/GeoJsonList?inactive=true'
print(data_url)
test = geojson_to_dict_list(data_url)
print(test[0])

print("123")



