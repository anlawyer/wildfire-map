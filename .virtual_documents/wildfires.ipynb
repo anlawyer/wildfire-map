import requests
import json
import math
import xyzservices.providers as xyz
from pyproj import Transformer, transform

from bokeh.models import GeoJSONDataSource, CustomJS, Slider
from bokeh.plotting import figure, show, column
from bokeh.io import output_notebook

output_notebook()

show(app)
